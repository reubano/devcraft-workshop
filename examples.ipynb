{
 "cells": [
  {
   "cell_type": "markdown",
   "metadata": {},
   "source": [
    "# Examples"
   ]
  },
  {
   "cell_type": "markdown",
   "metadata": {},
   "source": [
    "## Fetch KODI data"
   ]
  },
  {
   "cell_type": "markdown",
   "metadata": {
    "collapsed": true
   },
   "source": [
    "In this example, we fetch data from the Kenya Open Data Initiative API."
   ]
  },
  {
   "cell_type": "code",
   "execution_count": 1,
   "metadata": {
    "collapsed": false
   },
   "outputs": [
    {
     "data": {
      "text/plain": [
       "{'district_name': 'Turkana',\n",
       " 'number_of_poor_2005_06_': '481442',\n",
       " 'poverty_rate_2005_06_': '94.3'}"
      ]
     },
     "execution_count": 1,
     "metadata": {},
     "output_type": "execute_result"
    }
   ],
   "source": [
    "from riko.modules.fetchdata import pipe\n",
    "poverty_url = 'opendata.go.ke/resource/i5bp-z9aq.json'\n",
    "stream = pipe(conf={'url': poverty_url})\n",
    "next(stream)"
   ]
  },
  {
   "cell_type": "markdown",
   "metadata": {},
   "source": [
    "## Summing"
   ]
  },
  {
   "cell_type": "markdown",
   "metadata": {},
   "source": [
    "Now we will sum the total number of poor in Kenya"
   ]
  },
  {
   "cell_type": "code",
   "execution_count": null,
   "metadata": {
    "collapsed": true
   },
   "outputs": [],
   "source": [
    "from riko.collections.sync import SyncPipe\n",
    "\n",
    "sum_conf = {'sum_key': 'number_of_poor_2005_06_'}\n",
    "stream = SyncPipe('fetchdata', conf={'url': poverty_url}).sum(conf=sum_conf).output\n",
    "\"{:,}\".format(next(stream)['sum'])"
   ]
  },
  {
   "cell_type": "markdown",
   "metadata": {},
   "source": [
    "## Sorting"
   ]
  },
  {
   "cell_type": "raw",
   "metadata": {
    "collapsed": true
   },
   "source": [
    "Here, we sort the data by poverty rate"
   ]
  },
  {
   "cell_type": "code",
   "execution_count": 6,
   "metadata": {
    "collapsed": false
   },
   "outputs": [
    {
     "data": {
      "text/plain": [
       "{'district_name': 'Kajiado',\n",
       " 'number_of_poor_2005_06_': '46578',\n",
       " 'poverty_rate_2005_06_': '11.6'}"
      ]
     },
     "execution_count": 6,
     "metadata": {},
     "output_type": "execute_result"
    }
   ],
   "source": [
    "sort_conf = {'rule': {'sort_key': 'poverty_rate_2005_06_'}}\n",
    "stream = SyncPipe('fetchdata', conf={'url': poverty_url}).sort(conf=sort_conf).output\n",
    "next(stream)"
   ]
  },
  {
   "cell_type": "markdown",
   "metadata": {},
   "source": [
    "## Filtering and truncating"
   ]
  },
  {
   "cell_type": "markdown",
   "metadata": {},
   "source": [
    "Now, we will filter the data for districts with more than 70% poverty and list the top 5."
   ]
  },
  {
   "cell_type": "code",
   "execution_count": 49,
   "metadata": {
    "collapsed": false,
    "scrolled": true
   },
   "outputs": [
    {
     "data": {
      "text/plain": [
       "[{'district_name': 'Turkana',\n",
       "  'number_of_poor_2005_06_': '481442',\n",
       "  'poverty_rate_2005_06_': '94.3'},\n",
       " {'district_name': 'Marsabit',\n",
       "  'number_of_poor_2005_06_': '118786',\n",
       "  'poverty_rate_2005_06_': '91.7'},\n",
       " {'district_name': 'Mandera',\n",
       "  'number_of_poor_2005_06_': '225812',\n",
       "  'poverty_rate_2005_06_': '87.8'},\n",
       " {'district_name': 'Wajir',\n",
       "  'number_of_poor_2005_06_': '301422',\n",
       "  'poverty_rate_2005_06_': '84.0'},\n",
       " {'district_name': 'Tana River',\n",
       "  'number_of_poor_2005_06_': '191856',\n",
       "  'poverty_rate_2005_06_': '76.9'}]"
      ]
     },
     "execution_count": 49,
     "metadata": {},
     "output_type": "execute_result"
    }
   ],
   "source": [
    "sort_conf = {'rule': {'sort_key': 'poverty_rate_2005_06_', 'sort_dir': 'desc'}}\n",
    "filter_conf = {'rule': {'field': 'poverty_rate_2005_06_', 'op': 'greater', 'value': 70}}\n",
    "stream = (\n",
    "    SyncPipe('fetchdata', conf={'url': poverty_url})\n",
    "        .filter(conf=filter_conf)\n",
    "        .sort(conf=sort_conf)\n",
    "        .truncate(conf={'count': '5'})\n",
    "        .output)\n",
    "\n",
    "list(stream)"
   ]
  },
  {
   "cell_type": "markdown",
   "metadata": {},
   "source": [
    "## Counting"
   ]
  },
  {
   "cell_type": "markdown",
   "metadata": {},
   "source": [
    "Now we will count the total number of schools in Kenya"
   ]
  },
  {
   "cell_type": "code",
   "execution_count": 2,
   "metadata": {
    "collapsed": false,
    "scrolled": false
   },
   "outputs": [
    {
     "data": {
      "text/plain": [
       "{'boys_toilets': '1',\n",
       " 'costituency': 'KABETE',\n",
       " 'county': 'KIAMBU',\n",
       " 'district': 'KIAMBU',\n",
       " 'division': 'KIKUYU',\n",
       " 'geolocation': {'human_address': '{\"address\":\"\",\"city\":\"\",\"state\":\"\",\"zip\":\"\"}',\n",
       "  'latitude': '-1.25109',\n",
       "  'longitude': '36.69185',\n",
       "  'needs_recoding': False},\n",
       " 'girls_toilets': '3',\n",
       " 'gok_tsc_female': '0',\n",
       " 'gok_tsc_male': '0',\n",
       " 'level_of_education': 'PRIMARY SCHOOL',\n",
       " 'local_authority_female': '0',\n",
       " 'local_authority_male': '0',\n",
       " 'location': 'KINOO',\n",
       " 'name_of_school': 'KAGA ACADEMY PRIMARY',\n",
       " 'non_teaching_staff_female': '0',\n",
       " 'non_teaching_staff_male': '0',\n",
       " 'others_female': '0',\n",
       " 'others_male': '1',\n",
       " 'province': 'CENTRAL',\n",
       " 'pta_bog_female': '0',\n",
       " 'pta_bog_male': '0',\n",
       " 'pupil_classroom_ratio': '23',\n",
       " 'pupil_teacher_ratio': '69',\n",
       " 'pupil_toilet_ratio': '17.3',\n",
       " 'school_institution_type_1': 'MIXED',\n",
       " 'school_institution_type_2': 'BOARDING ONLY',\n",
       " 'school_institution_type_3': 'INTEGRATED',\n",
       " 'sponsor_of_school': 'PRIVATE INDIVIDUAL',\n",
       " 'status_of_school': 'PRIVATE',\n",
       " 'teachers_toilets': '1',\n",
       " 'total_boys': '0',\n",
       " 'total_enrolment': '69',\n",
       " 'total_girls': '0',\n",
       " 'total_number_of_classrooms': '3',\n",
       " 'total_toilets': '0'}"
      ]
     },
     "execution_count": 2,
     "metadata": {},
     "output_type": "execute_result"
    }
   ],
   "source": [
    "# First let's look at the data\n",
    "from riko.modules import fetchdata, join\n",
    "\n",
    "schools_url = 'opendata.go.ke/resource/fbd2-c7tq.json'\n",
    "next(fetchdata.pipe(conf={'url': schools_url}))\n"
   ]
  },
  {
   "cell_type": "code",
   "execution_count": 7,
   "metadata": {
    "collapsed": false
   },
   "outputs": [
    {
     "data": {
      "text/plain": [
       "[{'ASEGO': 1},\n",
       " {'BUTERE': 1},\n",
       " {'DAGORETTI': 2},\n",
       " {'EMBAKASI': 1},\n",
       " {'ISLAND': 1},\n",
       " {'KANDARA': 1},\n",
       " {'KASIKEU': 1},\n",
       " {'KIBERA': 2},\n",
       " {'KIKUYU': 1},\n",
       " {'KISAUNI': 1},\n",
       " {'KWANZA': 1},\n",
       " {'MARAGUA': 1},\n",
       " {'MWEA': 1},\n",
       " {'YATTA': 1}]"
      ]
     },
     "execution_count": 7,
     "metadata": {},
     "output_type": "execute_result"
    }
   ],
   "source": [
    "# Now let's count schools by division\n",
    "from riko.collections.sync import SyncPipe\n",
    "\n",
    "count_conf = {'count_key': 'division'}\n",
    "stream = SyncPipe('fetchdata', conf={'url': schools_url}).count(conf=count_conf).output\n",
    "list(stream)"
   ]
  },
  {
   "cell_type": "markdown",
   "metadata": {},
   "source": [
    "## More sums"
   ]
  },
  {
   "cell_type": "code",
   "execution_count": 11,
   "metadata": {
    "collapsed": false
   },
   "outputs": [
    {
     "data": {
      "text/plain": [
       "[{'EMBU': Decimal('1')},\n",
       " {'HOMA BAY': Decimal('2')},\n",
       " {'KAKAMEGA': Decimal('1')},\n",
       " {'KIAMBU': Decimal('1')},\n",
       " {'MACHAKOS': Decimal('6')},\n",
       " {'MAKUENI': Decimal('2')},\n",
       " {'MOMBASA': Decimal('3')},\n",
       " {\"MURANG'A\": Decimal('17')},\n",
       " {'NAIROBI': Decimal('8')},\n",
       " {'TRANS NZOIA': Decimal('2')}]"
      ]
     },
     "execution_count": 11,
     "metadata": {},
     "output_type": "execute_result"
    }
   ],
   "source": [
    "sum_conf = {'sum_key': 'teachers_toilets', 'group_key': 'county'}\n",
    "stream = SyncPipe('fetchdata', conf={'url': schools_url}).sum(conf=sum_conf).output\n",
    "list(stream)"
   ]
  },
  {
   "cell_type": "markdown",
   "metadata": {},
   "source": [
    "## Joining"
   ]
  },
  {
   "cell_type": "markdown",
   "metadata": {},
   "source": [
    "Now, we will join Kenya Primary School data to the poverty data."
   ]
  },
  {
   "cell_type": "code",
   "execution_count": 34,
   "metadata": {
    "collapsed": false
   },
   "outputs": [],
   "source": [
    "# HACK: create a helper function to lower case the key name \n",
    "\n",
    "def lower_case(stream, key): \n",
    "    for item in stream:\n",
    "        item[key] = item.get(key, '').lower()\n",
    "        yield item"
   ]
  },
  {
   "cell_type": "code",
   "execution_count": 35,
   "metadata": {
    "collapsed": false,
    "scrolled": true
   },
   "outputs": [
    {
     "data": {
      "text/plain": [
       "{'boys_toilets': '4',\n",
       " 'costituency': 'KILOME',\n",
       " 'county': 'MAKUENI',\n",
       " 'district': 'makueni',\n",
       " 'district_name': 'makueni',\n",
       " 'division': 'KASIKEU',\n",
       " 'geolocation': {'human_address': '{\"address\":\"\",\"city\":\"\",\"state\":\"\",\"zip\":\"\"}',\n",
       "  'latitude': '-2.01791',\n",
       "  'longitude': '37.38022',\n",
       "  'needs_recoding': False},\n",
       " 'girls_toilets': '6',\n",
       " 'gok_tsc_female': '0',\n",
       " 'gok_tsc_male': '0',\n",
       " 'level_of_education': 'PRIMARY SCHOOL',\n",
       " 'local_authority_female': '0',\n",
       " 'local_authority_male': '0',\n",
       " 'location': 'KASIKEU',\n",
       " 'name_of_school': 'TRAVELLERS OASIS CENTRE',\n",
       " 'non_teaching_staff_female': '0',\n",
       " 'non_teaching_staff_male': '0',\n",
       " 'number_of_poor_2005_06_': '619148',\n",
       " 'others_female': '0',\n",
       " 'others_male': '3',\n",
       " 'poverty_rate_2005_06_': '64.1',\n",
       " 'province': 'EASTERN',\n",
       " 'pta_bog_female': '0',\n",
       " 'pta_bog_male': '0',\n",
       " 'pupil_classroom_ratio': '2.5',\n",
       " 'pupil_teacher_ratio': '6.7',\n",
       " 'pupil_toilet_ratio': '2',\n",
       " 'school_institution_type_1': 'MIXED',\n",
       " 'school_institution_type_2': 'BOARDING ONLY',\n",
       " 'school_institution_type_3': 'INTEGRATED',\n",
       " 'sponsor_of_school': 'PRIVATE INDIVIDUAL/ORGANIZATION',\n",
       " 'status_of_school': 'PRIVATE',\n",
       " 'teachers_toilets': '2',\n",
       " 'total_boys': '0',\n",
       " 'total_enrolment': '20',\n",
       " 'total_girls': '0',\n",
       " 'total_number_of_classrooms': '8',\n",
       " 'total_toilets': '0'}"
      ]
     },
     "execution_count": 35,
     "metadata": {},
     "output_type": "execute_result"
    }
   ],
   "source": [
    "# Looks good, let's join them now\n",
    "\n",
    "poverty_stream = fetchdata.pipe(conf={'url': poverty_url})\n",
    "schools_stream = fetchdata.pipe(conf={'url': schools_url})\n",
    "join_conf = {'join_key': 'district_name', 'other_join_key': 'district'}\n",
    "\n",
    "poverty_l_stream = lower_case(poverty_stream, join_conf['join_key'])\n",
    "schools_l_stream = lower_case(schools_stream, join_conf['other_join_key'])\n",
    "joined_stream = pipe(poverty_l_stream, conf=join_conf, other=schools_l_stream)\n",
    "next(joined_stream)"
   ]
  }
 ],
 "metadata": {
  "kernelspec": {
   "display_name": "Python 3",
   "language": "python",
   "name": "python3"
  },
  "language_info": {
   "codemirror_mode": {
    "name": "ipython",
    "version": 3
   },
   "file_extension": ".py",
   "mimetype": "text/x-python",
   "name": "python",
   "nbconvert_exporter": "python",
   "pygments_lexer": "ipython3",
   "version": "3.5.2"
  }
 },
 "nbformat": 4,
 "nbformat_minor": 0
}
