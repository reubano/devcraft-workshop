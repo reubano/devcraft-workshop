{
 "cells": [
  {
   "cell_type": "markdown",
   "metadata": {},
   "source": [
    "# Exercises"
   ]
  },
  {
   "cell_type": "markdown",
   "metadata": {},
   "source": [
    "## Schools per district"
   ]
  },
  {
   "cell_type": "code",
   "execution_count": 42,
   "metadata": {
    "collapsed": false
   },
   "outputs": [
    {
     "data": {
      "text/plain": [
       "[{'BUTERE/MUMIAS': 1},\n",
       " {'HOMA BAY': 1},\n",
       " {'KIAMBU': 1},\n",
       " {'MACHAKOS': 1},\n",
       " {'MAKUENI': 1},\n",
       " {'MARAGUA': 2},\n",
       " {'MBEERE': 1},\n",
       " {'MOMBASA': 2},\n",
       " {'NAIROBI': 5},\n",
       " {'TRANS NZOIA': 1}]"
      ]
     },
     "execution_count": 42,
     "metadata": {},
     "output_type": "execute_result"
    }
   ],
   "source": [
    "from riko.collections.sync import SyncPipe\n",
    "\n",
    "count_conf = {}\n",
    "stream = (\n",
    "    SyncPipe('', conf={})\n",
    "        .count(conf={})\n",
    "        .output)\n",
    "\n",
    "list(stream)"
   ]
  },
  {
   "cell_type": "markdown",
   "metadata": {},
   "source": [
    "## Boarding only enrollment per district "
   ]
  },
  {
   "cell_type": "code",
   "execution_count": 57,
   "metadata": {
    "collapsed": false
   },
   "outputs": [
    {
     "data": {
      "text/plain": [
       "[{'BUTERE/MUMIAS': Decimal('224')},\n",
       " {'HOMA BAY': Decimal('277')},\n",
       " {'KIAMBU': Decimal('69')},\n",
       " {'MACHAKOS': Decimal('160')},\n",
       " {'MAKUENI': Decimal('20')},\n",
       " {'MARAGUA': Decimal('339')},\n",
       " {'MBEERE': Decimal('93')},\n",
       " {'MOMBASA': Decimal('438')},\n",
       " {'NAIROBI': Decimal('1396')},\n",
       " {'TRANS NZOIA': Decimal('55')}]"
      ]
     },
     "execution_count": 57,
     "metadata": {},
     "output_type": "execute_result"
    }
   ],
   "source": [
    "filter_conf = {'rule': {'field': '', 'op': 'is', 'value': ''}}\n",
    "\n",
    "stream = (\n",
    "    SyncPipe('fetchdata', conf={})\n",
    "        .filter(conf=filter_conf)\n",
    "        .sum(conf={})\n",
    "        .output)\n",
    "\n",
    "list(stream)"
   ]
  }
 ],
 "metadata": {
  "kernelspec": {
   "display_name": "Python 3",
   "language": "python",
   "name": "python3"
  },
  "language_info": {
   "codemirror_mode": {
    "name": "ipython",
    "version": 3
   },
   "file_extension": ".py",
   "mimetype": "text/x-python",
   "name": "python",
   "nbconvert_exporter": "python",
   "pygments_lexer": "ipython3",
   "version": "3.5.2"
  }
 },
 "nbformat": 4,
 "nbformat_minor": 0
}
