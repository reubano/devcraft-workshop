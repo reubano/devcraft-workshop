{
 "cells": [
  {
   "cell_type": "markdown",
   "metadata": {},
   "source": [
    "# Examples"
   ]
  },
  {
   "cell_type": "markdown",
   "metadata": {},
   "source": [
    "## Fetch KODI data"
   ]
  },
  {
   "cell_type": "markdown",
   "metadata": {
    "collapsed": true
   },
   "source": [
    "In this example, we fetch data from the Kenya Open Data Initiative API."
   ]
  },
  {
   "cell_type": "code",
   "execution_count": 2,
   "metadata": {
    "collapsed": false
   },
   "outputs": [
    {
     "data": {
      "text/plain": [
       "{'district_name': 'Turkana',\n",
       " 'number_of_poor_2005_06_': '481442',\n",
       " 'poverty_rate_2005_06_': '94.3'}"
      ]
     },
     "execution_count": 2,
     "metadata": {},
     "output_type": "execute_result"
    }
   ],
   "source": [
    "from riko.modules.fetchdata import pipe\n",
    "stream = pipe(conf={'url': 'opendata.go.ke/resource/i5bp-z9aq.json'})\n",
    "next(stream)"
   ]
  },
  {
   "cell_type": "markdown",
   "metadata": {},
   "source": [
    "## Summing"
   ]
  },
  {
   "cell_type": "markdown",
   "metadata": {},
   "source": [
    "Now we will sum the total number of poor in Kenya"
   ]
  },
  {
   "cell_type": "code",
   "execution_count": 38,
   "metadata": {
    "collapsed": false
   },
   "outputs": [
    {
     "data": {
      "text/plain": [
       "'15,139,820'"
      ]
     },
     "execution_count": 38,
     "metadata": {},
     "output_type": "execute_result"
    }
   ],
   "source": [
    "from riko.collections.sync import SyncPipe\n",
    "\n",
    "sum_conf = {'sum_key': 'number_of_poor_2005_06_'}\n",
    "stream = SyncPipe('fetchdata', conf={'url': url}).sum(conf=sum_conf).output\n",
    "\"{:,}\".format(next(stream))"
   ]
  },
  {
   "cell_type": "markdown",
   "metadata": {},
   "source": [
    "## Sorting"
   ]
  },
  {
   "cell_type": "raw",
   "metadata": {
    "collapsed": true
   },
   "source": [
    "Here, we sort the data by poverty rate"
   ]
  },
  {
   "cell_type": "code",
   "execution_count": 10,
   "metadata": {
    "collapsed": false
   },
   "outputs": [
    {
     "data": {
      "text/plain": [
       "{'district_name': 'Kajiado',\n",
       " 'number_of_poor_2005_06_': '46578',\n",
       " 'poverty_rate_2005_06_': '11.6'}"
      ]
     },
     "execution_count": 10,
     "metadata": {},
     "output_type": "execute_result"
    }
   ],
   "source": [
    "sort_conf = {'rule': {'sort_key': 'poverty_rate_2005_06_'}}\n",
    "stream = SyncPipe('fetchdata', conf={'url': url}).sort(conf=sort_conf).output\n",
    "next(stream)"
   ]
  },
  {
   "cell_type": "markdown",
   "metadata": {},
   "source": [
    "## Filtering and truncating"
   ]
  },
  {
   "cell_type": "markdown",
   "metadata": {},
   "source": [
    "Now, we will filter the data for districts with more than 70% poverty and list the top 5."
   ]
  },
  {
   "cell_type": "code",
   "execution_count": 9,
   "metadata": {
    "collapsed": false,
    "scrolled": true
   },
   "outputs": [
    {
     "data": {
      "text/plain": [
       "[{'district_name': 'Turkana',\n",
       "  'number_of_poor_2005_06_': '481442',\n",
       "  'poverty_rate_2005_06_': '94.3'},\n",
       " {'district_name': 'Marsabit',\n",
       "  'number_of_poor_2005_06_': '118786',\n",
       "  'poverty_rate_2005_06_': '91.7'},\n",
       " {'district_name': 'Mandera',\n",
       "  'number_of_poor_2005_06_': '225812',\n",
       "  'poverty_rate_2005_06_': '87.8'},\n",
       " {'district_name': 'Wajir',\n",
       "  'number_of_poor_2005_06_': '301422',\n",
       "  'poverty_rate_2005_06_': '84.0'},\n",
       " {'district_name': 'Tana River',\n",
       "  'number_of_poor_2005_06_': '191856',\n",
       "  'poverty_rate_2005_06_': '76.9'}]"
      ]
     },
     "execution_count": 9,
     "metadata": {},
     "output_type": "execute_result"
    }
   ],
   "source": [
    "sort_conf = {'rule': {'sort_key': 'poverty_rate_2005_06_', 'sort_dir': 'desc'}}\n",
    "filter_conf = {'rule': {'field': 'poverty_rate_2005_06_', 'op': 'greater', 'value': 70}}\n",
    "stream = (\n",
    "    SyncPipe('fetchdata', conf={'url': url})\n",
    "        .filter(conf=filter_conf)\n",
    "        .sort(conf=sort_conf)\n",
    "        .truncate(conf={'count': '5'})\n",
    "        .output)\n",
    "\n",
    "list(stream)"
   ]
  },
  {
   "cell_type": "markdown",
   "metadata": {},
   "source": [
    "## Joining"
   ]
  },
  {
   "cell_type": "markdown",
   "metadata": {},
   "source": [
    "Now, we will join Kenya Primary School data to the poverty data."
   ]
  },
  {
   "cell_type": "code",
   "execution_count": 2,
   "metadata": {
    "collapsed": false,
    "scrolled": true
   },
   "outputs": [
    {
     "data": {
      "text/plain": [
       "{'district_name': 'Turkana',\n",
       " 'number_of_poor_2005_06_': '481442',\n",
       " 'poverty_rate_2005_06_': '94.3'}"
      ]
     },
     "execution_count": 2,
     "metadata": {},
     "output_type": "execute_result"
    }
   ],
   "source": [
    "from riko.modules import csv, fetchdata, join\n",
    "\n",
    "poverty_url = 'opendata.go.ke/resource/i5bp-z9aq.json'\n",
    "schools_url = 'opendata.go.ke/resource/ud2q-hvhq.json'\n",
    "schools_url = 'file://schools.csv'\n",
    "# next(csv.pipe(conf={'url': schools_url}))\n",
    "next(fetchdata.pipe(conf={'url': poverty_url}))\n",
    "# poverty_stream = fetchdata.pipe(conf={'url': poverty_url})\n",
    "# schools_stream = fetchdata.pipe(conf={'url': schools_url})\n",
    "\n",
    "# join_conf = {'join_key': 'x', 'other_join_key': 'y'}\n",
    "# joined = pipe(items, conf=conf, other=other)\n",
    "# joined_stream = join.pipe"
   ]
  },
  {
   "cell_type": "markdown",
   "metadata": {},
   "source": [
    "## Parallel processing"
   ]
  },
  {
   "cell_type": "markdown",
   "metadata": {},
   "source": [
    "An example using `riko`'s parallel API to spawn a `ThreadPool`. You can instead enable a `ProcessPool` by additionally passing `threads=False` to `SyncPipe`, i.e., `SyncPipe('fetch', conf={'url': url}, parallel=True, threads=False)`."
   ]
  },
  {
   "cell_type": "code",
   "execution_count": 12,
   "metadata": {
    "collapsed": false
   },
   "outputs": [
    {
     "data": {
      "text/plain": [
       "'He uses the following example for when to throw your own errors:'"
      ]
     },
     "execution_count": 12,
     "metadata": {},
     "output_type": "execute_result"
    }
   ],
   "source": [
    "from riko.collections.sync import SyncPipe\n",
    "\n",
    "### Set the pipe configurations ###\n",
    "fetch_conf = {'url': 'https://news.ycombinator.com/rss'}\n",
    "filter_rule = {'field': 'link', 'op': 'contains', 'value': '.com'}\n",
    "xpath = '/html/body/center/table/tr[3]/td/table[2]/tr[1]/td/table/tr/td[3]/span/span'\n",
    "xpath_conf = {'url': {'subkey': 'comments'}, 'xpath': xpath}\n",
    "\n",
    "### Create a parallel SyncPipe flow ###\n",
    "#\n",
    "# The following flow will:\n",
    "#   1. fetch the hackernews RSS feed \n",
    "#   2. filter for items with '.com' in the article link\n",
    "#   3. fetch the first comment from all items in parallel (using 4 workers)\n",
    "#   4. flatten the result into one raw stream\n",
    "#   5. extract the first item's content\n",
    "#\n",
    "# Note: no point in sorting after the filter since parallel fetching doesn't guarantee \n",
    "# order\n",
    "flow = (\n",
    "    SyncPipe('fetch', conf=fetch_conf, parallel=True, workers=4)  # 1\n",
    "        .filter(conf={'rule': filter_rule})                       # 2\n",
    "        .xpathfetchpage(conf=xpath_conf))                         # 3\n",
    "\n",
    "stream = flow.output                                              # 4\n",
    "next(stream)['content']                                           # 5"
   ]
  },
  {
   "cell_type": "markdown",
   "metadata": {},
   "source": [
    "## Asynchronous processing"
   ]
  },
  {
   "cell_type": "markdown",
   "metadata": {},
   "source": [
    "To enable asynchronous processing, you must install the `async` module."
   ]
  },
  {
   "cell_type": "markdown",
   "metadata": {},
   "source": [
    "`pip install riko[async]`"
   ]
  },
  {
   "cell_type": "markdown",
   "metadata": {},
   "source": [
    "An example using `riko`'s asynchronous API."
   ]
  },
  {
   "cell_type": "code",
   "execution_count": 2,
   "metadata": {
    "collapsed": false
   },
   "outputs": [
    {
     "name": "stdout",
     "output_type": "stream",
     "text": [
      "Here's how iteration works ():\n"
     ]
    }
   ],
   "source": [
    "from riko.bado import coroutine, react\n",
    "from riko.collections.async import AsyncPipe\n",
    "\n",
    "### Set the pipe configurations ###\n",
    "fetch_conf = {'url': 'https://news.ycombinator.com/rss'}\n",
    "filter_rule = {'field': 'link', 'op': 'contains', 'value': '.com'}\n",
    "xpath = '/html/body/center/table/tr[3]/td/table[2]/tr[1]/td/table/tr/td[3]/span/span'\n",
    "xpath_conf = {'url': {'subkey': 'comments'}, 'xpath': xpath}\n",
    "\n",
    "### Create an AsyncPipe flow ###\n",
    "#\n",
    "# The following flow will:\n",
    "#   1. fetch the hackernews RSS feed\n",
    "#   2. filter for items with '.com' in the article link\n",
    "#   3. asynchronously fetch the first comment from each item (using 4 connections)\n",
    "#   4. flatten the result into one raw stream\n",
    "#   5. extract the first item's content\n",
    "#\n",
    "# Note: no point in sorting after the filter since async fetching doesn't guarantee \n",
    "# order\n",
    "@coroutine\n",
    "def run(reactor):\n",
    "    stream = yield (\n",
    "        AsyncPipe('fetch', conf=fetch_conf, connections=4)  # 1\n",
    "            .filter(conf={'rule': filter_rule})             # 2\n",
    "            .xpathfetchpage(conf=xpath_conf)                # 3\n",
    "            .output)                                        # 4\n",
    "    \n",
    "    print(next(stream)['content'])                          # 5\n",
    "    \n",
    "try:\n",
    "    react(run)\n",
    "except SystemExit:\n",
    "    pass"
   ]
  }
 ],
 "metadata": {
  "kernelspec": {
   "display_name": "Python 3",
   "language": "python",
   "name": "python3"
  },
  "language_info": {
   "codemirror_mode": {
    "name": "ipython",
    "version": 3
   },
   "file_extension": ".py",
   "mimetype": "text/x-python",
   "name": "python",
   "nbconvert_exporter": "python",
   "pygments_lexer": "ipython3",
   "version": "3.5.2"
  }
 },
 "nbformat": 4,
 "nbformat_minor": 0
}
